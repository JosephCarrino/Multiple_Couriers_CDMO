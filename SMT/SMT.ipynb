{
  "cells": [
    {
      "cell_type": "code",
      "execution_count": null,
      "metadata": {
        "colab": {
          "base_uri": "https://localhost:8080/"
        },
        "id": "wPKTtddAEkaL",
        "outputId": "d7a3d5da-7cb7-43e8-a565-f1dd3517ee00"
      },
      "outputs": [
        {
          "name": "stdout",
          "output_type": "stream",
          "text": [
            "Looking in indexes: https://pypi.org/simple, https://us-python.pkg.dev/colab-wheels/public/simple/\n",
            "Collecting z3-solver\n",
            "  Downloading z3_solver-4.12.2.0-py2.py3-none-manylinux2014_x86_64.whl (55.7 MB)\n",
            "\u001b[2K     \u001b[90m━━━━━━━━━━━━━━━━━━━━━━━━━━━━━━━━━━━━━━━━\u001b[0m \u001b[32m55.7/55.7 MB\u001b[0m \u001b[31m7.9 MB/s\u001b[0m eta \u001b[36m0:00:00\u001b[0m\n",
            "\u001b[?25hInstalling collected packages: z3-solver\n",
            "Successfully installed z3-solver-4.12.2.0\n"
          ]
        }
      ],
      "source": [
        "!pip install z3-solver"
      ]
    },
    {
      "cell_type": "code",
      "execution_count": null,
      "metadata": {
        "id": "8vXW9PKdEyEb"
      },
      "outputs": [],
      "source": [
        "from z3 import *\n",
        "import itertools"
      ]
    },
    {
      "cell_type": "code",
      "execution_count": null,
      "metadata": {
        "id": "GsgpwBh1FMZZ"
      },
      "outputs": [],
      "source": [
        "instance = {\n",
        "  \"m\" : 3,\n",
        "  \"n\" : 7,\n",
        "  \"D\" : [[0, 3, 3, 6, 5, 6, 6, 2],\n",
        "      [3, 0, 4, 3, 4, 7, 7, 3],\n",
        "      [3, 4, 0, 7, 6, 3, 5, 3],\n",
        "      [6, 3, 7, 0, 3, 6, 6, 4],\n",
        "      [5, 4, 6, 3, 0, 3, 3, 3],\n",
        "      [6, 7, 3, 6, 3, 0, 2, 4],\n",
        "      [6, 7, 5, 6, 3, 2, 0, 4],\n",
        "      [2, 3, 3, 4, 3, 4, 4, 0]],\n",
        "  \"l\" : [15, 10, 7],\n",
        "  \"s\" : [3, 2, 6, 8, 5, 4, 4]\n",
        "}"
      ]
    },
    {
      "cell_type": "code",
      "execution_count": null,
      "metadata": {
        "id": "vH55g-RrE-UP"
      },
      "outputs": [],
      "source": [
        "def array_max(vs):\n",
        "  m = vs[0]\n",
        "  for v in vs[1:]:\n",
        "    m = If(v > m, v, m)\n",
        "  return m"
      ]
    },
    {
      "cell_type": "code",
      "execution_count": null,
      "metadata": {
        "id": "yhpORs5fxSn6"
      },
      "outputs": [],
      "source": [
        "# Soluzione alternativa per l'accesso agli array che dovrebbe essere più veloce ma non va\n",
        "# Test\n",
        "#\n",
        "#  size_vector = Array(\"size_vector\", IntSort(), IntSort())\n",
        "#  distance_matrix = Array(\"distance_matrix\", IntSort(), IntSort())\n",
        "#  for i in range(n):\n",
        "#    size_vector = Store(size_vector, i, s[i])\n",
        "#\n",
        "#  for x, y in itertools.product(range(n + 1), range(n + 1)):\n",
        "#    index = x + y * n\n",
        "#    distance_matrix = Store(distance_matrix, index, D[x][y])\n",
        "    #distances.append(Sum(\n",
        "    #    [distance_matrix[c[i][j] - 1  + (c[i][j + 1] - 1) * n] for j in range(0,n)]\n",
        "    #    ))\n",
        "\n",
        "    #weights.append(Sum([size_vector[c[i][j]] for j in range(1,n)]))"
      ]
    },
    {
      "cell_type": "code",
      "execution_count": null,
      "metadata": {
        "id": "4FGjQAjJFffN"
      },
      "outputs": [],
      "source": [
        "def multiple_couriers(m, n, D, l, s, min_dist):\n",
        "    # i is the courier\n",
        "    # j is the step\n",
        "    c = [[Int(f\"c_{i}_{j}\") for j in range(n + 2)] for i in range(m)]\n",
        "\n",
        "    # Array indicating how much weight the courier i transport\n",
        "    weights = []\n",
        "\n",
        "    # Array indicating how much distance the courier i travel\n",
        "    distances = []\n",
        "\n",
        "    # list of coordinates of the matrix\n",
        "    coords = list(itertools.product(range(m), range(n + 2)))\n",
        "\n",
        "    solver = Solver()\n",
        "\n",
        "    for i in range(m):\n",
        "        # Since we should sum D[c[i,j], c[i,j+1]] but we can't use the array c as an index we have do the If to check every possible\n",
        "        # combination of c[i,j], c[i,j+1]. The range of value for k and w is [1, n+1] since we have to include\n",
        "        # the value for the base n+1\n",
        "        distances.append(\n",
        "            Sum(\n",
        "                [\n",
        "                    If(And(c[i][j] == k, c[i][j + 1] == w), D[k - 1][w - 1], 0)\n",
        "                    for j in range(0, n)\n",
        "                    for k in range(1, n + 2)\n",
        "                    for w in range(1, n + 2)\n",
        "                ]\n",
        "            )\n",
        "        )\n",
        "\n",
        "        # We have the same problem for the index\n",
        "        weights.append(\n",
        "            Sum(\n",
        "                [\n",
        "                    If(c[i][j] == k, s[k - 1], 0)\n",
        "                    for j in range(1, n)\n",
        "                    for k in range(1, n + 1)\n",
        "                ]\n",
        "            )\n",
        "        )\n",
        "\n",
        "    # Constraint\n",
        "\n",
        "    # Value range of decision variable\n",
        "    for x, y in coords:\n",
        "        solver.add(c[x][y] >= 1)\n",
        "        solver.add(c[x][y] <= n + 1)\n",
        "\n",
        "    # A package is carried by only one courier only one time\n",
        "    for x, y in coords:\n",
        "        solver.add(\n",
        "            [\n",
        "                Or(c[x][y] == n + 1, c[x][y] != c[i][j])\n",
        "                for i, j in coords\n",
        "                if (x, y) != (i, j)\n",
        "            ]\n",
        "        )\n",
        "\n",
        "    # Each package is assigned to a courier\n",
        "    for package in range(1, n + 1):\n",
        "        solver.add(Or([c[i][j] == package for i, j in coords]))\n",
        "\n",
        "    # The total weight carried by each courier is less than or equal to his maximum carriable weight\n",
        "    for i in range(m):\n",
        "        solver.add(weights[i] <= l[i])\n",
        "\n",
        "    # Every carried package must be delivered to destination and every courier must start from destination\n",
        "    for i in range(m):\n",
        "        solver.add(And(c[i][0] == n + 1, c[i][n + 1] == n + 1))\n",
        "\n",
        "    # Couriers must immediately start with a package after the base\n",
        "    for i in range(m):\n",
        "        for j in range(1, n + 1):\n",
        "            solver.add(Implies(c[i][j] != n + 1, c[i][1] != n + 1))\n",
        "\n",
        "    # Couriers cannot go back to the base before taking other packages\n",
        "    for i in range(m):\n",
        "        for j in range(1, n):\n",
        "            for k in range(j, n + 1):\n",
        "                solver.add(Implies(c[i][j] == n + 1, c[i][k] == n + 1))\n",
        "\n",
        "    # Symmetry breaking\n",
        "    # TODO\n",
        "\n",
        "    # Optimization\n",
        "\n",
        "    # Getting maximum distance\n",
        "    max_distance = array_max(distances)\n",
        "\n",
        "    # The max distance must be less than the minimum distance\n",
        "    solver.add(max_distance < min_dist)\n",
        "\n",
        "    sol = solver.check()\n",
        "    if sol == sat:  # If it's sat, we want to print the assignment\n",
        "        g = solver.model()\n",
        "        print(f\"Max distance: {g.eval(max_distance)}\")\n",
        "        print(g.eval(distances[0]))\n",
        "        print(g.eval(distances[1]))\n",
        "        print(g.eval(distances[2]))\n",
        "        print(g.eval(weights[0]))\n",
        "\n",
        "        # print(solver.check())\n",
        "        # for i in range(m):\n",
        "        #   print()\n",
        "        #   print(f\"Courier {i+1}:\")\n",
        "        #   for j in range(n+2):\n",
        "        #      print(f\"Time {j}: {g[c[i][j]]}\")\n",
        "        return g\n",
        "    else:\n",
        "        print(\"Not sat\")\n",
        "        return False"
      ]
    },
    {
      "cell_type": "code",
      "execution_count": null,
      "metadata": {
        "id": "QSXsjkBlF0A9"
      },
      "outputs": [],
      "source": [
        "from time import time\n",
        "\n",
        "MAXITER = 500\n",
        "\n",
        "def minimizer_binary(instance, solver = multiple_couriers, maxiter = MAXITER):\n",
        "  m = instance[\"m\"]\n",
        "  n = instance[\"n\"]\n",
        "  D = instance[\"D\"]\n",
        "  l = instance[\"l\"]\n",
        "  s = instance[\"s\"]\n",
        "  start = time()\n",
        "\n",
        "  min_dist = 9999999\n",
        "  for i in range(len(D)):\n",
        "    for j in range(len(D[i])):\n",
        "      if D[i][j] <= min_dist and D[i][j] != 0:\n",
        "        min_dist = D[i][j]\n",
        "    \n",
        "  max_dist = 0\n",
        "  for i in range(len(D)):\n",
        "    max_dist += max(D[i])\n",
        "  \n",
        "  iter = 1\n",
        "  while iter < maxiter:\n",
        "    k = int((min_dist + max_dist) / 2)\n",
        "\n",
        "    print(f\"Current k={k}\")\n",
        "\n",
        "    sol = solver(m, n, D, l, s, k)\n",
        "    if not sol:\n",
        "      min_dist = k\n",
        "    else:\n",
        "      max_dist = k\n",
        "    if abs(min_dist - max_dist) <= 1:\n",
        "      if sol:\n",
        "        return k, sol, f\"{time() - start:.2f}\", iter\n",
        "      else:\n",
        "        return 0, \"Unsat\", f\"{time() - start:.2f}\", iter\n",
        "    iter+=1\n",
        "  return 0, \"Out of time\", f\"{time() - start:.2f}\", iter"
      ]
    },
    {
      "cell_type": "code",
      "execution_count": null,
      "metadata": {
        "colab": {
          "base_uri": "https://localhost:8080/"
        },
        "id": "QIn8wPemwXw7",
        "outputId": "7f1fb40d-4a05-4885-84ac-b76b1d507220"
      },
      "outputs": [
        {
          "name": "stdout",
          "output_type": "stream",
          "text": [
            "Current k=26\n",
            "Max distance: 18\n",
            "18\n",
            "12\n",
            "10\n",
            "15\n",
            "Current k=14\n",
            "Max distance: 12\n",
            "12\n",
            "10\n",
            "12\n",
            "15\n",
            "Current k=8\n",
            "Not sat\n",
            "Current k=11\n",
            "Not sat\n",
            "Current k=12\n",
            "Not sat\n",
            "Current k=13\n",
            "Max distance: 12\n",
            "12\n",
            "12\n",
            "12\n",
            "15\n",
            "\n",
            "Results:\n",
            "Minimum distance found is 13\n",
            "Time: 83.71\n",
            "Iterations: 6\n"
          ]
        }
      ],
      "source": [
        "min_dist, sol, time_passed, iter = minimizer_binary(instance, multiple_couriers)\n",
        "print(\"\\nResults:\")\n",
        "if type(sol) == str: \n",
        "  print(f\"Solution: {sol}\")\n",
        "print(f\"Minimum distance found is {min_dist}\")\n",
        "print(f\"Time: {time_passed}\")\n",
        "print(f\"Iterations: {iter}\")"
      ]
    }
  ],
  "metadata": {
    "colab": {
      "provenance": []
    },
    "kernelspec": {
      "display_name": "Python 3",
      "name": "python3"
    },
    "language_info": {
      "name": "python"
    }
  },
  "nbformat": 4,
  "nbformat_minor": 0
}

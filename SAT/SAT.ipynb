{
  "cells": [
    {
      "cell_type": "code",
      "execution_count": 1,
      "metadata": {
        "colab": {
          "base_uri": "https://localhost:8080/"
        },
        "id": "BMCkB5508Shn",
        "outputId": "d31ad394-a12e-479e-de4d-bbd843009661"
      },
      "outputs": [
        {
          "name": "stdout",
          "output_type": "stream",
          "text": [
            "Collecting z3-solver\n",
            "  Using cached z3_solver-4.12.2.0-py2.py3-none-win_amd64.whl (57.9 MB)\n",
            "Installing collected packages: z3-solver\n"
          ]
        },
        {
          "name": "stderr",
          "output_type": "stream",
          "text": [
            "WARNING: Ignoring invalid distribution -oogletrans (c:\\python39\\lib\\site-packages)\n",
            "WARNING: Ignoring invalid distribution -ip (c:\\python39\\lib\\site-packages)\n",
            "WARNING: Ignoring invalid distribution -illow (c:\\python39\\lib\\site-packages)\n",
            "WARNING: Ignoring invalid distribution -oogletrans (c:\\python39\\lib\\site-packages)\n",
            "WARNING: Ignoring invalid distribution -ip (c:\\python39\\lib\\site-packages)\n",
            "WARNING: Ignoring invalid distribution -illow (c:\\python39\\lib\\site-packages)\n",
            "WARNING: Ignoring invalid distribution -oogletrans (c:\\python39\\lib\\site-packages)\n",
            "WARNING: Ignoring invalid distribution -ip (c:\\python39\\lib\\site-packages)\n",
            "WARNING: Ignoring invalid distribution -illow (c:\\python39\\lib\\site-packages)\n",
            "ERROR: Could not install packages due to an OSError: [WinError 5] Accesso negato: 'C:\\\\Python39\\\\bin'\n",
            "Consider using the `--user` option or check the permissions.\n",
            "\n",
            "WARNING: Ignoring invalid distribution -oogletrans (c:\\python39\\lib\\site-packages)\n",
            "WARNING: Ignoring invalid distribution -ip (c:\\python39\\lib\\site-packages)\n",
            "WARNING: Ignoring invalid distribution -illow (c:\\python39\\lib\\site-packages)\n",
            "WARNING: Ignoring invalid distribution -oogletrans (c:\\python39\\lib\\site-packages)\n",
            "WARNING: Ignoring invalid distribution -ip (c:\\python39\\lib\\site-packages)\n",
            "WARNING: Ignoring invalid distribution -illow (c:\\python39\\lib\\site-packages)\n",
            "WARNING: Ignoring invalid distribution -oogletrans (c:\\python39\\lib\\site-packages)\n",
            "WARNING: Ignoring invalid distribution -ip (c:\\python39\\lib\\site-packages)\n",
            "WARNING: Ignoring invalid distribution -illow (c:\\python39\\lib\\site-packages)\n"
          ]
        }
      ],
      "source": [
        "!pip install z3-solver"
      ]
    },
    {
      "cell_type": "code",
      "execution_count": 2,
      "metadata": {
        "id": "OFPa55kT8nTG"
      },
      "outputs": [],
      "source": [
        "from z3 import *\n",
        "import numpy as np\n",
        "from itertools import combinations"
      ]
    },
    {
      "cell_type": "code",
      "execution_count": 3,
      "metadata": {
        "id": "lX9n17jU9mBD"
      },
      "outputs": [],
      "source": [
        "def at_least_one(bool_vars):\n",
        "    return Or(bool_vars)\n",
        "\n",
        "def at_most_one(bool_vars):\n",
        "    return [Not(And(pair[0], pair[1])) for pair in combinations(bool_vars, 2)]\n",
        "\n",
        "def exactly_one(bool_vars):\n",
        "    return at_most_one(bool_vars) + [at_least_one(bool_vars)]\n",
        "\n",
        "def at_most_k_seq(x, k, name):\n",
        "    clauses = []\n",
        "    n = len(x)\n",
        "    s =[[Bool(f\"s_{i}_{j}_{name}\") for j in range(k)] for i in range(n - 1)]\n",
        "    clauses.append(Or(Not(x[0]), s[0][0]))\n",
        "    clauses += [Not(s[0][j]) for j in range(1, k)]\n",
        "    clauses.append(Or( Not(x[n - 1]), Not(s[ n-2 ][ k-1 ])))\n",
        "    for i in range(1, n - 1):\n",
        "      clauses.append(Or(Not(x[i]), s[i][0]))\n",
        "      clauses.append(Or(Not(s[i-1][0]), s[i][0]))\n",
        "      for j in range(1, k):\n",
        "        clauses.append(Or(Not(s[i-1][j]), s[i][j]))\n",
        "        clauses.append(Or(Not(x[i]), Not(s[i-1][j-1]), s[i][j]))\n",
        "      clauses.append(Or(Not(x[i]), Not(s[ i-1 ][ k-1 ])))\n",
        "    return And(clauses) "
      ]
    },
    {
      "cell_type": "code",
      "execution_count": 4,
      "metadata": {
        "id": "49vty3Z98zFv"
      },
      "outputs": [],
      "source": [
        "def multiple_couriers(m, n, D, l, s, min_dist): #m is the number of couriers, n is the number of packages, D is the distance matrix, l is the load of each courier, s is the size of each package\n",
        "\n",
        "  # i is the courier\n",
        "  # j is the step\n",
        "  # k is the one-hot encoding of the package\n",
        "  c = [[[Bool(f\"c_{i}_{j}_{k}\") for k in range(n+1)] for j in range(n+2)] for i in range(m)]\n",
        "\n",
        "  # i is the courier\n",
        "  # j is the package\n",
        "  # k is the bitwise encoding of the package\n",
        "  w = [[[Bool(f\"w_{i}_{j}_{k}\") for k in range(s[j])] for j in range(n)] for i in range(m)]\n",
        "\n",
        "  # i is the courier\n",
        "  # start is a position of the route\n",
        "  # end is the next position of the route\n",
        "  d = [[[Bool(f\"d_{i}_{start}_{end}\") for end in range(n+1)] for start in range(n+1)] for i in range(m)]\n",
        "\n",
        "  # Defining the solver instance\n",
        "  solver = Solver()\n",
        "\n",
        "  # Binding the two matrixes\n",
        "  for i in range(m):\n",
        "    for j in range(1, n+1):\n",
        "      for package in range(n):\n",
        "        for k in range(s[package]):\n",
        "          solver.add(Implies(c[i][j][package], w[i][package][k]))\n",
        "          # solver.add(Implies(w[i][package][k], c[i][j][package]))\n",
        "\n",
        "  # Binding the routing\n",
        "  for i in range(m):\n",
        "    for j in range(n):\n",
        "      for start in range(n+1):\n",
        "        for end in range(n+1):\n",
        "          solver.add(Implies(And(c[i][j][start], c[i][j+1][end]), d[i][start][end]))\n",
        "\n",
        "  # At each time, the courier carries exactly one package or he is at base\n",
        "  for i in range(m):\n",
        "    for j in range(n+2):\n",
        "      solver.add(exactly_one(c[i][j][:]))\n",
        "\n",
        "  # Each package is carried only once\n",
        "  for package in range(n):\n",
        "    vars = []\n",
        "    for i in range(m):\n",
        "      for j in range(1, n+1):\n",
        "        vars.append(c[i][j][package])\n",
        "    solver.add(exactly_one(vars))\n",
        "\n",
        "  # The total weight carried by each courier must be less or equal than his\n",
        "  # carriable weight\n",
        "  for i in range(m):\n",
        "    vars = []\n",
        "    for j in range(n):\n",
        "      for k in range(s[j]):\n",
        "        vars.append(w[i][j][k])     \n",
        "    solver.add(at_most_k_seq(vars, l[i], f\"weight_{i}\"))\n",
        "\n",
        "  # At start/end the courier must be at the base\n",
        "  for i in range(m):\n",
        "    solver.add(c[i][0][n])\n",
        "    solver.add(c[i][n+1][n])\n",
        "\n",
        "  # Getting the maximum distance\n",
        "  for i in range(m):\n",
        "    dists = []\n",
        "    for start in range(n+1):\n",
        "      for end in range(n+1):\n",
        "        for z in range(D[start][end]):\n",
        "          dists.append(d[i][start][end])\n",
        "    solver.add(at_most_k_seq(dists, min_dist, f\"Courier_dist_{i}\"))\n",
        "\n",
        "  ## Breaking Symmetry ##\n",
        "\n",
        "  # Lexicographic order for each courier\n",
        "  for i in range(m):\n",
        "    for j in range(1, n):\n",
        "      for z in range(j+1, n+1):\n",
        "        solver.add(Implies(c[i][j][n], c[i][z][n]))\n",
        "      \n",
        "  sol = solver.check()\n",
        "  if sol == sat: #If it's sat, we want to print the assignment\n",
        "    g = solver.model()\n",
        "    print(solver.check())\n",
        "    # for i in range(m):\n",
        "    #   print()\n",
        "    #   print(f\"Courier {i+1}:\")\n",
        "    #   for j in range(n+2):\n",
        "    #     for k in range(n+1):\n",
        "    #       if g[c[i][j][k]]:\n",
        "    #         print(f\"Time {j} Place {k+1} : {g[c[i][j][k]]}\")\n",
        "    return g\n",
        "  else:\n",
        "    print(\"Not sat\")\n",
        "    return False"
      ]
    },
    {
      "cell_type": "code",
      "execution_count": 6,
      "metadata": {
        "id": "5aYqa3k_cXLL"
      },
      "outputs": [],
      "source": [
        "from time import time\n",
        "\n",
        "MAXITER = 500\n",
        "\n",
        "def minimizer_binary(instance, solver=multiple_couriers, maxiter = MAXITER):\n",
        "  m = instance[\"m\"]\n",
        "  n = instance[\"n\"]\n",
        "  D = instance[\"D\"]\n",
        "  l = instance[\"l\"]\n",
        "  s = instance[\"s\"]\n",
        "  start = time()\n",
        "\n",
        "  min_dist = 9999999\n",
        "  for i in range(len(D)):\n",
        "    for j in range(len(D[i])):\n",
        "      if D[i][j] <= min_dist and D[i][j] != 0:\n",
        "        min_dist = D[i][j]\n",
        "    \n",
        "  max_dist = 0\n",
        "  for i in range(len(D)):\n",
        "    max_dist += max(D[i])\n",
        "  \n",
        "  iter = 1\n",
        "  # TODO push e op del constraint con k invece di creare un nuovo modello\n",
        "  while iter < maxiter:\n",
        "    k = int((min_dist + max_dist) / 2)\n",
        "    sol = solver(m, n, D, l, s, k)\n",
        "    if not sol:\n",
        "      min_dist = k\n",
        "    else:\n",
        "      max_dist = k\n",
        "    if abs(min_dist - max_dist) <= 1:\n",
        "      if sol:\n",
        "        return k, sol, f\"{time() - start:.2f}\", iter\n",
        "      else:\n",
        "        return 0, \"Unsat\", f\"{time() - start:.2f}\", iter\n",
        "    iter+=1\n",
        "  return 0, \"Out of time\", f\"{time() - start:.2f}\", iter\n",
        "  "
      ]
    },
    {
      "cell_type": "code",
      "execution_count": 7,
      "metadata": {
        "id": "2kzLJL9vKjy7"
      },
      "outputs": [],
      "source": [
        "instance = {\n",
        "  \"m\" : 2,\n",
        "  \"n\" : 6,\n",
        "  \"D\" : [[0, 3, 4, 5, 6, 6, 2],\n",
        "      [3, 0, 1, 4, 5, 7, 3],\n",
        "      [4, 1, 0, 5, 6, 6, 4],\n",
        "      [4, 4, 5, 0, 3, 3, 2],\n",
        "      [6, 7, 8, 3, 0, 2, 4],\n",
        "      [6, 7, 8, 3, 2, 0, 4],\n",
        "      [2, 3, 4, 3, 4, 4, 0]],\n",
        "  \"l\" : [15, 10],\n",
        "  \"s\" : [3, 2, 6, 5, 4, 4]\n",
        "}"
      ]
    },
    {
      "cell_type": "code",
      "execution_count": 8,
      "metadata": {
        "id": "Bx08ZhBRUvEv"
      },
      "outputs": [
        {
          "name": "stdout",
          "output_type": "stream",
          "text": [
            "sat\n",
            "Not sat\n",
            "sat\n",
            "Not sat\n",
            "sat\n",
            "\n",
            "Results:\n",
            "Minimum distance found is 14\n",
            "Time: 26.88\n",
            "Iterations: 5\n"
          ]
        }
      ],
      "source": [
        "min_dist, sol, time_passed, iter = minimizer_binary(instance)\n",
        "print(\"\\nResults:\")\n",
        "if type(sol) == str: \n",
        "  print(f\"Solution: {sol}\")\n",
        "print(f\"Minimum distance found is {min_dist}\")\n",
        "print(f\"Time: {time_passed}\")\n",
        "print(f\"Iterations: {iter}\")"
      ]
    }
  ],
  "metadata": {
    "accelerator": "GPU",
    "colab": {
      "gpuType": "T4",
      "provenance": []
    },
    "gpuClass": "standard",
    "kernelspec": {
      "display_name": "Python 3",
      "name": "python3"
    },
    "language_info": {
      "codemirror_mode": {
        "name": "ipython",
        "version": 3
      },
      "file_extension": ".py",
      "mimetype": "text/x-python",
      "name": "python",
      "nbconvert_exporter": "python",
      "pygments_lexer": "ipython3",
      "version": "3.9.6"
    }
  },
  "nbformat": 4,
  "nbformat_minor": 0
}

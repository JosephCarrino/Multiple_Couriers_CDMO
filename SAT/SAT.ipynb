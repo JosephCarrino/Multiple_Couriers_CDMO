{
  "nbformat": 4,
  "nbformat_minor": 0,
  "metadata": {
    "colab": {
      "provenance": [],
      "gpuType": "T4"
    },
    "kernelspec": {
      "name": "python3",
      "display_name": "Python 3"
    },
    "language_info": {
      "name": "python"
    },
    "accelerator": "GPU",
    "gpuClass": "standard"
  },
  "cells": [
    {
      "cell_type": "code",
      "execution_count": 1,
      "metadata": {
        "colab": {
          "base_uri": "https://localhost:8080/"
        },
        "id": "BMCkB5508Shn",
        "outputId": "d31ad394-a12e-479e-de4d-bbd843009661"
      },
      "outputs": [
        {
          "output_type": "stream",
          "name": "stdout",
          "text": [
            "Looking in indexes: https://pypi.org/simple, https://us-python.pkg.dev/colab-wheels/public/simple/\n",
            "Collecting z3-solver\n",
            "  Downloading z3_solver-4.12.1.0-py2.py3-none-manylinux1_x86_64.whl (56.0 MB)\n",
            "\u001b[2K     \u001b[90m━━━━━━━━━━━━━━━━━━━━━━━━━━━━━━━━━━━━━━━━\u001b[0m \u001b[32m56.0/56.0 MB\u001b[0m \u001b[31m14.1 MB/s\u001b[0m eta \u001b[36m0:00:00\u001b[0m\n",
            "\u001b[?25hInstalling collected packages: z3-solver\n",
            "Successfully installed z3-solver-4.12.1.0\n"
          ]
        }
      ],
      "source": [
        "!pip install z3-solver"
      ]
    },
    {
      "cell_type": "code",
      "source": [
        "from z3 import *\n",
        "import numpy as np\n",
        "from itertools import combinations"
      ],
      "metadata": {
        "id": "OFPa55kT8nTG"
      },
      "execution_count": 2,
      "outputs": []
    },
    {
      "cell_type": "code",
      "source": [
        "def at_least_one(bool_vars):\n",
        "    return Or(bool_vars)\n",
        "\n",
        "def at_most_one(bool_vars):\n",
        "    return [Not(And(pair[0], pair[1])) for pair in combinations(bool_vars, 2)]\n",
        "\n",
        "def exactly_one(bool_vars):\n",
        "    return at_most_one(bool_vars) + [at_least_one(bool_vars)]\n",
        "\n",
        "def at_most_k_seq(x, k, name):\n",
        "    clauses = []\n",
        "    n = len(x)\n",
        "    s =[[Bool(f\"s_{i}_{j}_{name}\") for j in range(k)] for i in range(n - 1)]\n",
        "    clauses.append(Or(Not(x[0]), s[0][0]))\n",
        "    clauses += [Not(s[0][j]) for j in range(1, k)]\n",
        "    clauses.append(Or( Not(x[n - 1]), Not(s[ n-2 ][ k-1 ])))\n",
        "    for i in range(1, n - 1):\n",
        "      clauses.append(Or(Not(x[i]), s[i][0]))\n",
        "      clauses.append(Or(Not(s[i-1][0]), s[i][0]))\n",
        "      for j in range(1, k):\n",
        "        clauses.append(Or(Not(s[i-1][j]), s[i][j]))\n",
        "        clauses.append(Or(Not(x[i]), Not(s[i-1][j-1]), s[i][j]))\n",
        "      clauses.append(Or(Not(x[i]), Not(s[ i-1 ][ k-1 ])))\n",
        "    return And(clauses) "
      ],
      "metadata": {
        "id": "lX9n17jU9mBD"
      },
      "execution_count": 3,
      "outputs": []
    },
    {
      "cell_type": "code",
      "source": [
        "def multiple_couriers(m, n, D, l, s, min_dist): #m is the number of couriers, n is the number of packages, D is the distance matrix, l is the load of each courier, s is the size of each package\n",
        "\n",
        "  # i is the courier\n",
        "  # j is the step\n",
        "  # k is the one-hot encoding of the package\n",
        "  c = [[[Bool(f\"c_{i}_{j}_{k}\") for k in range(n+1)] for j in range(n+2)] for i in range(m)]\n",
        "\n",
        "  # i is the courier\n",
        "  # j is the package\n",
        "  # k is the bitwise encoding of the package\n",
        "  w = [[[Bool(f\"w_{i}_{j}_{k}\") for k in range(s[j])] for j in range(n)] for i in range(m)]\n",
        "\n",
        "  # i is the courier\n",
        "  # start is a position of the route\n",
        "  # end is the next position of the route\n",
        "  d = [[[Bool(f\"d_{i}_{start}_{end}\") for end in range(n+1)] for start in range(n+1)] for i in range(m)]\n",
        "\n",
        "  # Defining the solver instance\n",
        "  solver = Solver()\n",
        "\n",
        "  # Binding the two matrixes\n",
        "  for i in range(m):\n",
        "    for j in range(1, n+1):\n",
        "      for package in range(n):\n",
        "        for k in range(s[package]):\n",
        "          solver.add(Implies(c[i][j][package], w[i][package][k]))\n",
        "          # solver.add(Implies(w[i][package][k], c[i][j][package]))\n",
        "\n",
        "  # Binding the routing\n",
        "  for i in range(m):\n",
        "    for j in range(n):\n",
        "      for start in range(n+1):\n",
        "        for end in range(n+1):\n",
        "          solver.add(Implies(And(c[i][j][start], c[i][j+1][end]), d[i][start][end]))\n",
        "\n",
        "  # At each time, the courier carries exactly one package or he is at base\n",
        "  for i in range(m):\n",
        "    for j in range(n+2):\n",
        "      solver.add(exactly_one(c[i][j][:]))\n",
        "\n",
        "  # Each package is carried only once\n",
        "  for package in range(n):\n",
        "    vars = []\n",
        "    for i in range(m):\n",
        "      for j in range(1, n+1):\n",
        "        vars.append(c[i][j][package])\n",
        "    solver.add(exactly_one(vars))\n",
        "\n",
        "  # The total weight carried by each courier must be less or equal than his\n",
        "  # carriable weight\n",
        "  for i in range(m):\n",
        "    vars = []\n",
        "    for j in range(n):\n",
        "      for k in range(s[j]):\n",
        "        vars.append(w[i][j][k])     \n",
        "    solver.add(at_most_k_seq(vars, l[i], f\"weight_{i}\"))\n",
        "\n",
        "  # At start/end the courier must be at the base\n",
        "  for i in range(m):\n",
        "    solver.add(c[i][0][n])\n",
        "    solver.add(c[i][n+1][n])\n",
        "\n",
        "  # Getting the maximum distance\n",
        "  for i in range(m):\n",
        "    dists = []\n",
        "    for start in range(n+1):\n",
        "      for end in range(n+1):\n",
        "        for z in range(D[start][end]):\n",
        "          dists.append(d[i][start][end])\n",
        "    solver.add(at_most_k_seq(dists, min_dist, f\"Courier_dist_{i}\"))\n",
        "\n",
        "  ## Breaking Symmetry ##\n",
        "\n",
        "  # Lexicographic order for each courier\n",
        "  for i in range(m):\n",
        "    for j in range(1, n):\n",
        "      for z in range(j+1, n+1):\n",
        "        solver.add(Implies(c[i][j][n], c[i][z][n]))\n",
        "      \n",
        "  sol = solver.check()\n",
        "  if sol == sat: #If it's sat, we want to print the assignment\n",
        "    g = solver.model()\n",
        "    print(solver.check())\n",
        "    # for i in range(m):\n",
        "    #   print()\n",
        "    #   print(f\"Courier {i+1}:\")\n",
        "    #   for j in range(n+2):\n",
        "    #     for k in range(n+1):\n",
        "    #       if g[c[i][j][k]]:\n",
        "    #         print(f\"Time {j} Place {k+1} : {g[c[i][j][k]]}\")\n",
        "    return g\n",
        "  else:\n",
        "    print(\"Not sat\")\n",
        "    return False"
      ],
      "metadata": {
        "id": "49vty3Z98zFv"
      },
      "execution_count": 111,
      "outputs": []
    },
    {
      "cell_type": "code",
      "source": [
        "from time import time()\n",
        "\n",
        "MAXITER = 500\n",
        "\n",
        "def minimizer_binary(instance, solver=multiple_couriers, maxiter = MAXITER):\n",
        "  m = instance[\"m\"]\n",
        "  n = instance[\"n\"]\n",
        "  D = instance[\"D\"]\n",
        "  l = instance[\"l\"]\n",
        "  s = instance[\"s\"]\n",
        "  start = time()\n",
        "\n",
        "  min_dist = 9999999\n",
        "  for i in range(len(D)):\n",
        "    for j in range(len(D[i])):\n",
        "      if D[i][j] <= min_dist and D[i][j] != 0:\n",
        "        min_dist = D[i][j]\n",
        "    \n",
        "  max_dist = 0\n",
        "  for i in range(len(D)):\n",
        "    max_dist += max(D[i])\n",
        "  \n",
        "  iter = 1\n",
        "  while iter < maxiter:\n",
        "    k = int((min_dist + max_dist) / 2)\n",
        "    sol = solver(m, n, D, l, s, k)\n",
        "    if not sol:\n",
        "      min_dist = k\n",
        "    else:\n",
        "      max_dist = k\n",
        "    if abs(min_dist - max_dist) <= 1:\n",
        "      if sol:\n",
        "        return k, sol, f\"{time() - start:.2f}\", iter\n",
        "      else:\n",
        "        return 0, \"Unsat\", f\"{time() - start:.2f}\", iter\n",
        "    iter+=1\n",
        "  return 0, \"Out of time\", f\"{time() - start:.2f}\", iter\n",
        "  "
      ],
      "metadata": {
        "id": "5aYqa3k_cXLL"
      },
      "execution_count": 120,
      "outputs": []
    },
    {
      "cell_type": "code",
      "source": [
        "instance = {\n",
        "  \"m\" : 3,\n",
        "  \"n\" : 7,\n",
        "  \"D\" : [[0, 3, 3, 6, 5, 6, 6, 2],\n",
        "      [3, 0, 4, 3, 4, 7, 7, 3],\n",
        "      [3, 4, 0, 7, 6, 3, 5, 3],\n",
        "      [6, 3, 7, 0, 3, 6, 6, 4],\n",
        "      [5, 4, 6, 3, 0, 3, 3, 3],\n",
        "      [6, 7, 3, 6, 3, 0, 2, 4],\n",
        "      [6, 7, 5, 6, 3, 2, 0, 4],\n",
        "      [2, 3, 3, 4, 3, 4, 4, 0]],\n",
        "  \"l\" : [15, 10, 7],\n",
        "  \"s\" : [3, 2, 6, 8, 5, 4, 4]\n",
        "}"
      ],
      "metadata": {
        "id": "2kzLJL9vKjy7"
      },
      "execution_count": 125,
      "outputs": []
    },
    {
      "cell_type": "code",
      "source": [
        "min_dist, sol, time_passed, iter = minimizer_binary(instance)\n",
        "print(\"\\nResults:\")\n",
        "if type(sol) == str: \n",
        "  print(f\"Solution: {sol}\")\n",
        "print(f\"Minimum distance found is {min_dist}\")\n",
        "print(f\"Time: {time_passed}\")\n",
        "print(f\"Iterations: {iter}\")"
      ],
      "metadata": {
        "id": "Bx08ZhBRUvEv"
      },
      "execution_count": null,
      "outputs": []
    }
  ]
}